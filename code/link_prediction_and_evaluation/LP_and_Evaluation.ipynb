{
  "nbformat": 4,
  "nbformat_minor": 0,
  "metadata": {
    "colab": {
      "name": "Copy of Copy of LP.ipynb",
      "provenance": [],
      "collapsed_sections": []
    },
    "kernelspec": {
      "name": "python3",
      "display_name": "Python 3"
    },
    "language_info": {
      "name": "python"
    }
  },
  "cells": [
    {
      "cell_type": "markdown",
      "source": [
        "## **Link** **Prediction** **and** **Evaluation** "
      ],
      "metadata": {
        "id": "Vobs_Usu8fj2"
      }
    },
    {
      "cell_type": "code",
      "execution_count": null,
      "metadata": {
        "id": "I2iC0Hz5cclq"
      },
      "outputs": [],
      "source": [
        "import pandas as pd\n",
        "df1 = pd.read_csv('/content/ent_labels.tsv',header=None)\n",
        "df = (pd.read_csv('/content/ent_embedding.tsv',sep='\\t',header=None))\n",
        "df.index = df1[0].tolist()"
      ]
    },
    {
      "cell_type": "code",
      "source": [
        "f = open(\"kg1-train.txt\",\"r\")\n",
        "data = f.read()\n",
        "data = data.replace('\\t1\\t', '\\t')\n",
        "data = data.replace('\\t2\\t','\\t')\n",
        "data = data.replace('\\t3\\t','\\t')\n",
        "data = data.replace('\\t4\\t', '\\t')\n",
        "f = open(\"edge_list-train.txt\",\"w\")\n",
        "f.write(data)"
      ],
      "metadata": {
        "colab": {
          "base_uri": "https://localhost:8080/"
        },
        "id": "BJsAHpXIE_-D",
        "outputId": "48c95450-8a26-4e9b-ccca-020543e0e946"
      },
      "execution_count": null,
      "outputs": [
        {
          "output_type": "execute_result",
          "data": {
            "text/plain": [
              "243235"
            ]
          },
          "metadata": {},
          "execution_count": 2
        }
      ]
    },
    {
      "cell_type": "code",
      "source": [
        ""
      ],
      "metadata": {
        "id": "WT9LCqYuM_QY"
      },
      "execution_count": null,
      "outputs": []
    },
    {
      "cell_type": "code",
      "source": [
        "f = open(\"kg1-test.txt\",\"r\")\n",
        "data = f.read()\n",
        "data = data.replace('\\t1\\t', '\\t')\n",
        "data = data.replace('\\t2\\t','\\t')\n",
        "data = data.replace('\\t3\\t','\\t')\n",
        "data = data.replace('\\t4\\t', '\\t')\n",
        "f = open(\"edge_list-test.txt\",\"w\")\n",
        "f.write(data)"
      ],
      "metadata": {
        "colab": {
          "base_uri": "https://localhost:8080/"
        },
        "outputId": "29d3835d-5349-4ec6-a121-728aa8413d27",
        "id": "2XZtq1i7M_nc"
      },
      "execution_count": null,
      "outputs": [
        {
          "output_type": "execute_result",
          "data": {
            "text/plain": [
              "28660"
            ]
          },
          "metadata": {},
          "execution_count": 3
        }
      ]
    },
    {
      "cell_type": "code",
      "source": [
        ""
      ],
      "metadata": {
        "id": "ugFrDsQfNGdX"
      },
      "execution_count": null,
      "outputs": []
    },
    {
      "cell_type": "code",
      "source": [
        "f = open(\"kg1-valid.txt\",\"r\")\n",
        "data = f.read()\n",
        "data = data.replace('\\t1\\t', '\\t')\n",
        "data = data.replace('\\t2\\t','\\t')\n",
        "data = data.replace('\\t3\\t','\\t')\n",
        "data = data.replace('\\t4\\t', '\\t')\n",
        "f = open(\"edge_list-valid.txt\",\"w\")\n",
        "f.write(data)"
      ],
      "metadata": {
        "colab": {
          "base_uri": "https://localhost:8080/"
        },
        "outputId": "a3e5b16f-d3ab-47fc-9906-294e5422d861",
        "id": "zmdKoX9CNG_W"
      },
      "execution_count": null,
      "outputs": [
        {
          "output_type": "execute_result",
          "data": {
            "text/plain": [
              "14325"
            ]
          },
          "metadata": {},
          "execution_count": 4
        }
      ]
    },
    {
      "cell_type": "code",
      "source": [
        "import networkx as nx\n",
        "adj = open(\"edge_list-train.txt\",\"r\")\n",
        "lines = adj.readlines()\n",
        "g_train = nx.Graph()\n",
        "for l in lines: \n",
        "  l = l.strip('\\n')\n",
        "  a = l.split('\\t')\n",
        "  g_train.add_edge(a[0],a[1])\n",
        "print(len(g_train.edges()))"
      ],
      "metadata": {
        "id": "dSv62HX1InHe",
        "colab": {
          "base_uri": "https://localhost:8080/"
        },
        "outputId": "c4af363f-2074-4f43-e996-9f118a991a9a"
      },
      "execution_count": null,
      "outputs": [
        {
          "output_type": "stream",
          "name": "stdout",
          "text": [
            "18553\n"
          ]
        }
      ]
    },
    {
      "cell_type": "code",
      "source": [
        "import networkx as nx\n",
        "adj = open(\"edge_list-test.txt\",\"r\")\n",
        "lines = adj.readlines()\n",
        "g_test = nx.Graph()\n",
        "for l in lines: \n",
        "  l = l.strip('\\n')\n",
        "  a = l.split('\\t')\n",
        "  g_test.add_edge(a[0],a[1])\n",
        "print(len(g_test.edges()))"
      ],
      "metadata": {
        "colab": {
          "base_uri": "https://localhost:8080/"
        },
        "id": "Yu_wauaVNh9G",
        "outputId": "e5b947b6-3477-475f-d53f-851dba865303"
      },
      "execution_count": null,
      "outputs": [
        {
          "output_type": "stream",
          "name": "stdout",
          "text": [
            "2545\n"
          ]
        }
      ]
    },
    {
      "cell_type": "code",
      "source": [
        "import networkx as nx\n",
        "adj = open(\"edge_list-valid.txt\",\"r\")\n",
        "lines = adj.readlines()\n",
        "g_valid = nx.Graph()\n",
        "for l in lines: \n",
        "  l = l.strip('\\n')\n",
        "  a = l.split('\\t')\n",
        "  g_valid.add_edge(a[0],a[1])\n",
        "print(len(g_valid.edges()))"
      ],
      "metadata": {
        "colab": {
          "base_uri": "https://localhost:8080/"
        },
        "id": "14Hzx6r1N3pZ",
        "outputId": "227b8ba7-6fd4-4d56-d4e2-7ce10f89f97b"
      },
      "execution_count": null,
      "outputs": [
        {
          "output_type": "stream",
          "name": "stdout",
          "text": [
            "1278\n"
          ]
        }
      ]
    },
    {
      "cell_type": "code",
      "source": [
        "import numpy as np\n",
        "import random\n",
        "\n",
        "\n",
        "def edges_All(edges):\n",
        "  edges_all = []\n",
        "  edge = []\n",
        "  for e in edges :\n",
        "    edge.append([int(e[0]),int(e[1])])\n",
        "    edges_all.append([int(e[0]),int(e[1])])\n",
        "    edges_all.append([int(e[1]),int(e[0])])\n",
        "  return edge,edges_all\n",
        "\n",
        "def mask_test_edges():\n",
        "    # Function to build test set with 10% positive links\n",
        "\n",
        "    val_edges = g_valid.edges()\n",
        "    train_edges = g_train.edges()\n",
        "    test_edges = g_test.edges()\n",
        "    test_edges,test_edges_all = edges_All(test_edges)\n",
        "    train_edges, train_edges_all = edges_All(train_edges)\n",
        "    val_edges, val_edges_all = edges_All(val_edges)\n",
        "    edges_all = []\n",
        "    edges_all.append(test_edges_all)\n",
        "    edges_all.append(train_edges_all)\n",
        "    edges_all.append(val_edges_all)    \n",
        "    user = df1[0].tolist()\n",
        "    product = df1[0].tolist()\n",
        "    test_edges_false = []\n",
        "    while len(test_edges_false) < len(test_edges):\n",
        "        idx_i = random.choice(user)\n",
        "        idx_j = random.choice(product)\n",
        "        if idx_i == idx_j:\n",
        "            continue\n",
        "        if [idx_i, idx_j] in edges_all:\n",
        "            continue\n",
        "        if test_edges_false:\n",
        "            if [idx_j, idx_i] in test_edges_false:\n",
        "                continue\n",
        "            if [idx_i, idx_j] in test_edges_false:\n",
        "                continue\n",
        "        test_edges_false.append([idx_i, idx_j])\n",
        "\n",
        "    val_edges_false = []\n",
        "    while len(val_edges_false) < len(val_edges):\n",
        "        idx_i = random.choice(user)\n",
        "        idx_j = random.choice(product)\n",
        "        if idx_i == idx_j:\n",
        "            continue\n",
        "        if [idx_i, idx_j] in edges_all:\n",
        "            continue\n",
        "        if [idx_i, idx_j] in test_edges_false:\n",
        "            continue\n",
        "        if [idx_j, idx_i] in test_edges_false:\n",
        "            continue\n",
        "        if val_edges_false:\n",
        "            if [idx_j, idx_i] in val_edges_false:\n",
        "                continue\n",
        "            if [idx_i, idx_j] in val_edges_false:\n",
        "                continue\n",
        "        val_edges_false.append([idx_i, idx_j])\n",
        "\n",
        "    train_edges_false = []\n",
        "    while len(train_edges_false) < len(train_edges):\n",
        "        idx_i = random.choice(user)\n",
        "        idx_j = random.choice(product)\n",
        "        if idx_i == idx_j:\n",
        "            continue\n",
        "        if [idx_i, idx_j] in edges_all:\n",
        "            continue\n",
        "        if train_edges_false:\n",
        "            if [idx_j, idx_i] in train_edges_false:\n",
        "                continue\n",
        "            if [idx_i, idx_j] in train_edges_false:\n",
        "                continue     \n",
        "\n",
        "        train_edges_false.append([idx_i,idx_j])\n",
        "\n",
        "    return train_edges, train_edges_false, val_edges, val_edges_false, test_edges, test_edges_false\n"
      ],
      "metadata": {
        "id": "AtdPBp5ZunnL"
      },
      "execution_count": null,
      "outputs": []
    },
    {
      "cell_type": "code",
      "source": [
        "import numpy as np\n",
        "train_edges, train_edges_false, val_edges, val_edges_false, test_edges, test_edges_false = mask_test_edges()"
      ],
      "metadata": {
        "id": "knkMMiQvNQuz"
      },
      "execution_count": null,
      "outputs": []
    },
    {
      "cell_type": "code",
      "source": [
        "def get_edge_embeddings(edge_list):\n",
        "    embs = []\n",
        "    for edge in edge_list:\n",
        "        node1 = edge[0]\n",
        "        node2 = edge[1]\n",
        "        emb1 = list(df.loc[node1])\n",
        "        emb2 = list(df.loc[node2])\n",
        "        edge_emb = np.multiply(emb1, emb2)\n",
        "        embs.append(edge_emb)\n",
        "    embs = np.array(embs)\n",
        "    return embs"
      ],
      "metadata": {
        "id": "jRYMwOTQmrIH"
      },
      "execution_count": null,
      "outputs": []
    },
    {
      "cell_type": "code",
      "source": [
        "pos_train_edge_embs = get_edge_embeddings(train_edges)\n",
        "neg_train_edge_embs = get_edge_embeddings(train_edges_false)\n",
        "train_edge_embs = np.concatenate([pos_train_edge_embs, neg_train_edge_embs])\n",
        "\n",
        "# Create train-set edge labels: 1 = real edge, 0 = false edge\n",
        "train_edge_labels = np.concatenate([np.ones(len(train_edges)), np.zeros(len(train_edges_false))])\n",
        "\n",
        "# Val-set edge embeddings, labels\n",
        "pos_val_edge_embs = get_edge_embeddings(val_edges)\n",
        "neg_val_edge_embs = get_edge_embeddings(val_edges_false)\n",
        "val_edge_embs = np.concatenate([pos_val_edge_embs, neg_val_edge_embs])\n",
        "val_edge_labels = np.concatenate([np.ones(len(val_edges)), np.zeros(len(val_edges_false))])\n",
        "\n",
        "# Test-set edge embeddings, labels\n",
        "pos_test_edge_embs = get_edge_embeddings(test_edges)\n",
        "neg_test_edge_embs = get_edge_embeddings(test_edges_false)\n",
        "test_edge_embs = np.concatenate([pos_test_edge_embs, neg_test_edge_embs])\n",
        "\n",
        "# Create val-set edge labels: 1 = real edge, 0 = false edge\n",
        "test_edge_labels = np.concatenate([np.ones(len(test_edges)), np.zeros(len(test_edges_false))])"
      ],
      "metadata": {
        "id": "m3gVC1o5mslR"
      },
      "execution_count": null,
      "outputs": []
    },
    {
      "cell_type": "markdown",
      "source": [
        "Logistic Regression"
      ],
      "metadata": {
        "id": "2b4-dj_CeriK"
      }
    },
    {
      "cell_type": "code",
      "source": [
        "# Train logistic regression classifier on train-set edge embeddings\n",
        "from sklearn.linear_model import LogisticRegression\n",
        "edge_classifier = LogisticRegression(random_state=0)\n",
        "edge_classifier.fit(train_edge_embs, train_edge_labels)"
      ],
      "metadata": {
        "colab": {
          "base_uri": "https://localhost:8080/"
        },
        "id": "yymbNqTKeqky",
        "outputId": "1bb45674-aa51-4a7b-aeec-23ef96bf4f6f"
      },
      "execution_count": null,
      "outputs": [
        {
          "output_type": "execute_result",
          "data": {
            "text/plain": [
              "LogisticRegression(random_state=0)"
            ]
          },
          "metadata": {},
          "execution_count": 12
        }
      ]
    },
    {
      "cell_type": "code",
      "source": [
        "import scipy.sparse as sp\n",
        "import numpy as np\n",
        "from sklearn.metrics import roc_auc_score\n",
        "from sklearn.metrics import average_precision_score\n",
        "# Predicted edge scores: probability of being of class \"1\" (real edge)"
      ],
      "metadata": {
        "id": "4aTawoMLufhF"
      },
      "execution_count": null,
      "outputs": []
    },
    {
      "cell_type": "code",
      "source": [
        "val_preds = edge_classifier.predict_proba(val_edge_embs)[:, 1]\n",
        "val_roc = roc_auc_score(val_edge_labels, val_preds)\n",
        "val_ap = average_precision_score(val_edge_labels, val_preds)"
      ],
      "metadata": {
        "id": "ot5Afky7fTj-"
      },
      "execution_count": null,
      "outputs": []
    },
    {
      "cell_type": "code",
      "source": [
        "test_preds = edge_classifier.predict_proba(test_edge_embs)[:, 1]\n",
        "test_roc = roc_auc_score(test_edge_labels, test_preds)\n",
        "test_ap = average_precision_score(test_edge_labels, test_preds)"
      ],
      "metadata": {
        "id": "nY5sCZbFfZIS"
      },
      "execution_count": null,
      "outputs": []
    },
    {
      "cell_type": "code",
      "source": [
        "print('Validation ROC score: ', str(val_roc))\n",
        "print('Validation AP score: ', str(val_ap))\n",
        "print('Test ROC score: ', str(test_roc))\n",
        "print('Test AP score: ', str(test_ap))"
      ],
      "metadata": {
        "colab": {
          "base_uri": "https://localhost:8080/"
        },
        "id": "H0hX2hzCfZbl",
        "outputId": "f667bbd5-4067-4ac5-8534-481261625895"
      },
      "execution_count": null,
      "outputs": [
        {
          "output_type": "stream",
          "name": "stdout",
          "text": [
            "Validation ROC score:  0.8016836018720566\n",
            "Validation AP score:  0.8660913704457754\n",
            "Test ROC score:  0.7888529070059171\n",
            "Test AP score:  0.8580575901424574\n"
          ]
        }
      ]
    },
    {
      "cell_type": "markdown",
      "source": [
        "Random Forest"
      ],
      "metadata": {
        "id": "px9FybnfdODW"
      }
    },
    {
      "cell_type": "code",
      "source": [
        "from sklearn.ensemble import RandomForestClassifier\n",
        "edge_classifier = RandomForestClassifier()\n",
        "edge_classifier.fit(train_edge_embs, train_edge_labels)\n",
        "import scipy.sparse as sp\n",
        "import numpy as np\n",
        "from sklearn.metrics import roc_auc_score\n",
        "from sklearn.metrics import average_precision_score\n",
        "# Predicted edge scores: probability of being of class \"1\" (real edge)\n",
        "val_preds = edge_classifier.predict(val_edge_embs)\n",
        "val_roc = roc_auc_score(val_edge_labels, val_preds)\n",
        "val_ap = average_precision_score(val_edge_labels, val_preds)\n",
        "val_preds = edge_classifier.predict(val_edge_embs)\n",
        "val_roc = roc_auc_score(val_edge_labels, val_preds)\n",
        "val_ap = average_precision_score(val_edge_labels, val_preds)\n",
        "test_preds = edge_classifier.predict(test_edge_embs)\n",
        "test_roc = roc_auc_score(test_edge_labels, test_preds)\n",
        "test_ap = average_precision_score(test_edge_labels, test_preds)\n",
        "print('Validation ROC score: ', str(val_roc))\n",
        "print('Validation AP score: ', str(val_ap))\n",
        "print('Test ROC score: ', str(test_roc))\n",
        "print('Test AP score: ', str(test_ap))"
      ],
      "metadata": {
        "colab": {
          "base_uri": "https://localhost:8080/"
        },
        "id": "s2SaUK7eTwUs",
        "outputId": "2501edff-7d3b-4e24-8c8c-0ff4a6c0c31d"
      },
      "execution_count": null,
      "outputs": [
        {
          "output_type": "stream",
          "name": "stdout",
          "text": [
            "Validation ROC score:  0.8163080635431329\n",
            "Validation AP score:  0.7903412219823391\n",
            "Test ROC score:  0.822061191626409\n",
            "Test AP score:  0.7960667348599169\n"
          ]
        }
      ]
    },
    {
      "cell_type": "markdown",
      "source": [
        "SVM"
      ],
      "metadata": {
        "id": "q0enNRZnUXa9"
      }
    },
    {
      "cell_type": "code",
      "source": [
        "from sklearn.svm import SVC\n",
        "edge_classifier = SVC()\n",
        "edge_classifier.fit(train_edge_embs, train_edge_labels)\n",
        "import scipy.sparse as sp\n",
        "import numpy as np\n",
        "from sklearn.metrics import roc_auc_score\n",
        "from sklearn.metrics import average_precision_score\n",
        "# Predicted edge scores: probability of being of class \"1\" (real edge)\n",
        "val_preds = edge_classifier.predict(val_edge_embs)\n",
        "val_roc = roc_auc_score(val_edge_labels, val_preds)\n",
        "val_ap = average_precision_score(val_edge_labels, val_preds)\n",
        "val_preds = edge_classifier.predict(val_edge_embs)\n",
        "val_roc = roc_auc_score(val_edge_labels, val_preds)\n",
        "val_ap = average_precision_score(val_edge_labels, val_preds)\n",
        "test_preds = edge_classifier.predict(test_edge_embs)\n",
        "test_roc = roc_auc_score(test_edge_labels, test_preds)\n",
        "test_ap = average_precision_score(test_edge_labels, test_preds)\n",
        "print('Validation ROC score: ', str(val_roc))\n",
        "print('Validation AP score: ', str(val_ap))\n",
        "print('Test ROC score: ', str(test_roc))\n",
        "print('Test AP score: ', str(test_ap))"
      ],
      "metadata": {
        "colab": {
          "base_uri": "https://localhost:8080/"
        },
        "id": "kvTea1EAUeo8",
        "outputId": "ddb1720d-49f3-4ee3-a39e-fe50893b80f5"
      },
      "execution_count": null,
      "outputs": [
        {
          "output_type": "stream",
          "name": "stdout",
          "text": [
            "Validation ROC score:  0.7956967625175949\n",
            "Validation AP score:  0.7769906709178778\n",
            "Test ROC score:  0.7976046698872785\n",
            "Test AP score:  0.778407196336376\n"
          ]
        }
      ]
    },
    {
      "cell_type": "markdown",
      "source": [
        "K-Nearest Neighbour "
      ],
      "metadata": {
        "id": "7RbKBH2AUyfo"
      }
    },
    {
      "cell_type": "code",
      "source": [
        "from sklearn.neighbors import KNeighborsClassifier\n",
        "edge_classifier = KNeighborsClassifier()\n",
        "edge_classifier.fit(train_edge_embs, train_edge_labels)\n",
        "import scipy.sparse as sp\n",
        "import numpy as np\n",
        "from sklearn.metrics import roc_auc_score\n",
        "from sklearn.metrics import average_precision_score\n",
        "# Predicted edge scores: probability of being of class \"1\" (real edge)\n",
        "val_preds = edge_classifier.predict(val_edge_embs)\n",
        "val_roc = roc_auc_score(val_edge_labels, val_preds)\n",
        "val_ap = average_precision_score(val_edge_labels, val_preds)\n",
        "val_preds = edge_classifier.predict(val_edge_embs)\n",
        "val_roc = roc_auc_score(val_edge_labels, val_preds)\n",
        "val_ap = average_precision_score(val_edge_labels, val_preds)\n",
        "test_preds = edge_classifier.predict(test_edge_embs)\n",
        "test_roc = roc_auc_score(test_edge_labels, test_preds)\n",
        "test_ap = average_precision_score(test_edge_labels, test_preds)\n",
        "print('Validation ROC score: ', str(val_roc))\n",
        "print('Validation AP score: ', str(val_ap))\n",
        "print('Test ROC score: ', str(test_roc))\n",
        "print('Test AP score: ', str(test_ap))"
      ],
      "metadata": {
        "colab": {
          "base_uri": "https://localhost:8080/"
        },
        "id": "JGgX5T9iUxag",
        "outputId": "881af952-2497-4850-ffc7-32d8400410c1"
      },
      "execution_count": null,
      "outputs": [
        {
          "output_type": "stream",
          "name": "stdout",
          "text": [
            "Validation ROC score:  0.7960989342449226\n",
            "Validation AP score:  0.7865079239899266\n",
            "Test ROC score:  0.7971014492753623\n",
            "Test AP score:  0.7871479873211309\n"
          ]
        }
      ]
    }
  ]
}